{
  "nbformat": 4,
  "nbformat_minor": 0,
  "metadata": {
    "colab": {
      "name": "Intro to Python.ipynb",
      "provenance": [],
      "collapsed_sections": []
    },
    "kernelspec": {
      "name": "python3",
      "display_name": "Python 3"
    },
    "language_info": {
      "name": "python"
    }
  },
  "cells": [
    {
      "cell_type": "code",
      "metadata": {
        "colab": {
          "base_uri": "https://localhost:8080/"
        },
        "id": "fwxxIWx5RlIb",
        "outputId": "85189332-7b5a-44f3-8fd2-6e02d68e6258"
      },
      "source": [
        "!python --version"
      ],
      "execution_count": null,
      "outputs": [
        {
          "output_type": "stream",
          "text": [
            "Python 3.7.10\n"
          ],
          "name": "stdout"
        }
      ]
    },
    {
      "cell_type": "code",
      "metadata": {
        "colab": {
          "base_uri": "https://localhost:8080/"
        },
        "id": "1TdO_SV7R61o",
        "outputId": "b1606c37-00ab-47cb-dde1-04a5adc92b23"
      },
      "source": [
        "x = 3.4\n",
        "print(x)\n",
        "print(type(x))"
      ],
      "execution_count": null,
      "outputs": [
        {
          "output_type": "stream",
          "text": [
            "3.4\n",
            "<class 'float'>\n"
          ],
          "name": "stdout"
        }
      ]
    },
    {
      "cell_type": "code",
      "metadata": {
        "colab": {
          "base_uri": "https://localhost:8080/"
        },
        "id": "2rbJ7E2iSVI9",
        "outputId": "3ed6bd2e-f175-476c-eeaf-679699844a13"
      },
      "source": [
        "print(x + 1)\n",
        "print(x - 1)\n",
        "print(x * 2)\n",
        "print(x ** 2)"
      ],
      "execution_count": null,
      "outputs": [
        {
          "output_type": "stream",
          "text": [
            "4.4\n",
            "2.4\n",
            "6.8\n",
            "11.559999999999999\n"
          ],
          "name": "stdout"
        }
      ]
    },
    {
      "cell_type": "code",
      "metadata": {
        "colab": {
          "base_uri": "https://localhost:8080/"
        },
        "id": "0tObMr1JSlzD",
        "outputId": "8e753d57-3d6e-4930-bad0-141f549c0170"
      },
      "source": [
        "x += 2 # x = x + 2\n",
        "print(x)\n",
        "x *= 3 # x = x * 3\n",
        "print(x)"
      ],
      "execution_count": null,
      "outputs": [
        {
          "output_type": "stream",
          "text": [
            "7.4\n",
            "22.200000000000003\n"
          ],
          "name": "stdout"
        }
      ]
    },
    {
      "cell_type": "code",
      "metadata": {
        "colab": {
          "base_uri": "https://localhost:8080/"
        },
        "id": "kKE3maaVTZo4",
        "outputId": "a8c5282c-b06f-4ec2-8782-68d246dffec8"
      },
      "source": [
        "t = True\n",
        "f = False\n",
        "print(type(t))"
      ],
      "execution_count": null,
      "outputs": [
        {
          "output_type": "stream",
          "text": [
            "<class 'bool'>\n"
          ],
          "name": "stdout"
        }
      ]
    },
    {
      "cell_type": "code",
      "metadata": {
        "colab": {
          "base_uri": "https://localhost:8080/"
        },
        "id": "9eOxzHlfT7c7",
        "outputId": "c0535f39-47cb-4676-b07d-c51a5ea0c32e"
      },
      "source": [
        "print(True and True)"
      ],
      "execution_count": null,
      "outputs": [
        {
          "output_type": "stream",
          "text": [
            "True\n"
          ],
          "name": "stdout"
        }
      ]
    },
    {
      "cell_type": "code",
      "metadata": {
        "colab": {
          "base_uri": "https://localhost:8080/"
        },
        "id": "gkvkI39GUAt7",
        "outputId": "c0934b3b-0aef-4635-a214-5c1aad591d0d"
      },
      "source": [
        "print(t and f)"
      ],
      "execution_count": null,
      "outputs": [
        {
          "output_type": "stream",
          "text": [
            "False\n"
          ],
          "name": "stdout"
        }
      ]
    },
    {
      "cell_type": "code",
      "metadata": {
        "colab": {
          "base_uri": "https://localhost:8080/"
        },
        "id": "cdiBdf-0UGlx",
        "outputId": "0a21c840-b730-428c-8656-e8270b9ee0f1"
      },
      "source": [
        "print(t or f)"
      ],
      "execution_count": null,
      "outputs": [
        {
          "output_type": "stream",
          "text": [
            "True\n"
          ],
          "name": "stdout"
        }
      ]
    },
    {
      "cell_type": "code",
      "metadata": {
        "colab": {
          "base_uri": "https://localhost:8080/"
        },
        "id": "NlAemmcqULaf",
        "outputId": "8977dc6f-e3b5-4245-91ad-19a09aefae4a"
      },
      "source": [
        "print(not t)"
      ],
      "execution_count": null,
      "outputs": [
        {
          "output_type": "stream",
          "text": [
            "False\n"
          ],
          "name": "stdout"
        }
      ]
    },
    {
      "cell_type": "code",
      "metadata": {
        "colab": {
          "base_uri": "https://localhost:8080/"
        },
        "id": "8W-F53MQUPPc",
        "outputId": "067715cd-e04a-4d4f-de23-976202f6052c"
      },
      "source": [
        "print(2 == 3)"
      ],
      "execution_count": null,
      "outputs": [
        {
          "output_type": "stream",
          "text": [
            "False\n"
          ],
          "name": "stdout"
        }
      ]
    },
    {
      "cell_type": "code",
      "metadata": {
        "colab": {
          "base_uri": "https://localhost:8080/"
        },
        "id": "Z2YCaQh-UZOj",
        "outputId": "f9adb9b9-399b-47f8-93b1-e72a29a748ac"
      },
      "source": [
        "hello = 'hello'\n",
        "Hello = \"Hello\"\n",
        "print(hello, Hello)"
      ],
      "execution_count": null,
      "outputs": [
        {
          "output_type": "stream",
          "text": [
            "hello Hello\n"
          ],
          "name": "stdout"
        }
      ]
    },
    {
      "cell_type": "code",
      "metadata": {
        "colab": {
          "base_uri": "https://localhost:8080/"
        },
        "id": "GVjyasbtUoe8",
        "outputId": "291b4374-8ec4-4390-87ca-9b10ee16a5f2"
      },
      "source": [
        "len(hello)\n",
        "hello = 'hello' + ' everyone'\n",
        "\n",
        "print(hello, len(hello))"
      ],
      "execution_count": null,
      "outputs": [
        {
          "output_type": "stream",
          "text": [
            "hello everyone 14\n"
          ],
          "name": "stdout"
        }
      ]
    },
    {
      "cell_type": "code",
      "metadata": {
        "colab": {
          "base_uri": "https://localhost:8080/"
        },
        "id": "PyRFrbdwVOD5",
        "outputId": "d4b7726d-5416-4714-ec37-677c3b2f589e"
      },
      "source": [
        "s = 'falooda'\n",
        "print(s.capitalize())\n",
        "print(s.upper())\n",
        "print(s.islower())"
      ],
      "execution_count": null,
      "outputs": [
        {
          "output_type": "stream",
          "text": [
            "Falooda\n",
            "FALOODA\n",
            "True\n"
          ],
          "name": "stdout"
        }
      ]
    },
    {
      "cell_type": "code",
      "metadata": {
        "colab": {
          "base_uri": "https://localhost:8080/"
        },
        "id": "JwgyOi99V1yU",
        "outputId": "ffa8eec5-aa47-4662-ce77-406788fd2d51"
      },
      "source": [
        "## Lists\n",
        "\n",
        "xs = [1, 2.3, True, 'lassi']\n",
        "print(xs)"
      ],
      "execution_count": null,
      "outputs": [
        {
          "output_type": "stream",
          "text": [
            "[1, 2.3, True, 'lassi']\n"
          ],
          "name": "stdout"
        }
      ]
    },
    {
      "cell_type": "code",
      "metadata": {
        "colab": {
          "base_uri": "https://localhost:8080/"
        },
        "id": "Esbu3SBzWJqf",
        "outputId": "406fdbba-0e8f-4ed0-b480-51fd34ac436b"
      },
      "source": [
        "xs[-2]"
      ],
      "execution_count": null,
      "outputs": [
        {
          "output_type": "execute_result",
          "data": {
            "text/plain": [
              "True"
            ]
          },
          "metadata": {
            "tags": []
          },
          "execution_count": 31
        }
      ]
    },
    {
      "cell_type": "code",
      "metadata": {
        "colab": {
          "base_uri": "https://localhost:8080/"
        },
        "id": "PMSj6J_7Whh6",
        "outputId": "91ccb08e-4771-4bf4-d9e9-484df8b8598c"
      },
      "source": [
        "xs.append(s)\n",
        "print(xs)"
      ],
      "execution_count": null,
      "outputs": [
        {
          "output_type": "stream",
          "text": [
            "[1, 2.3, True, 'lassi', 'falooda']\n"
          ],
          "name": "stdout"
        }
      ]
    },
    {
      "cell_type": "code",
      "metadata": {
        "colab": {
          "base_uri": "https://localhost:8080/"
        },
        "id": "hPytKOXdWqX6",
        "outputId": "943c0b8e-7133-4735-b5f3-2071b20ecd6f"
      },
      "source": [
        "nums = list(range(5))\n",
        "print(nums)"
      ],
      "execution_count": null,
      "outputs": [
        {
          "output_type": "stream",
          "text": [
            "[0, 1, 2, 3, 4]\n"
          ],
          "name": "stdout"
        }
      ]
    },
    {
      "cell_type": "code",
      "metadata": {
        "colab": {
          "base_uri": "https://localhost:8080/"
        },
        "id": "BxG7ThK4W5PQ",
        "outputId": "bed019c0-974d-48e9-dc2a-9e8bb9573d52"
      },
      "source": [
        "print(nums[2:4])\n",
        "print(nums[1:])\n",
        "print(nums[:3])\n"
      ],
      "execution_count": null,
      "outputs": [
        {
          "output_type": "stream",
          "text": [
            "[2, 3]\n",
            "[1, 2, 3, 4]\n",
            "[0, 1, 2]\n"
          ],
          "name": "stdout"
        }
      ]
    },
    {
      "cell_type": "code",
      "metadata": {
        "colab": {
          "base_uri": "https://localhost:8080/"
        },
        "id": "iaqODz41XyoJ",
        "outputId": "b46c9c09-16fd-46e6-e302-55b7f95bd883"
      },
      "source": [
        "nums[2:4] = [5,6]\n",
        "print(nums)"
      ],
      "execution_count": null,
      "outputs": [
        {
          "output_type": "stream",
          "text": [
            "[0, 1, 5, 6, 4]\n"
          ],
          "name": "stdout"
        }
      ]
    },
    {
      "cell_type": "code",
      "metadata": {
        "colab": {
          "base_uri": "https://localhost:8080/"
        },
        "id": "rFYoe3F9YAqc",
        "outputId": "e0dcfcb7-a0d4-4a14-ccc2-667ce564a5cd"
      },
      "source": [
        "animals = ['cat', 'dog', 'monkey']\n",
        "for animal in animals :\n",
        "  print(animal + ' tail') "
      ],
      "execution_count": null,
      "outputs": [
        {
          "output_type": "stream",
          "text": [
            "cat tail\n",
            "dog tail\n",
            "monkey tail\n"
          ],
          "name": "stdout"
        }
      ]
    },
    {
      "cell_type": "code",
      "metadata": {
        "colab": {
          "base_uri": "https://localhost:8080/"
        },
        "id": "wazju8HiY2rq",
        "outputId": "70ed3b80-f917-4a93-adf2-281aeb0e053d"
      },
      "source": [
        "d = {'name' : 'kkr', 'pet' : 'cat', 'cap': 'no'}\n",
        "print(d['pet'])\n",
        "d['cap'] = 'yes'\n",
        "print(d['cap'])"
      ],
      "execution_count": null,
      "outputs": [
        {
          "output_type": "stream",
          "text": [
            "cat\n",
            "yes\n"
          ],
          "name": "stdout"
        }
      ]
    },
    {
      "cell_type": "code",
      "metadata": {
        "colab": {
          "base_uri": "https://localhost:8080/"
        },
        "id": "RUJoS5QUZqQG",
        "outputId": "1c75fb2e-0687-443f-9bae-e7f705f7ed83"
      },
      "source": [
        "dataset = {'train': [1,2,3], 'test': [-1, -2, -3]}\n",
        "dataset['train']"
      ],
      "execution_count": null,
      "outputs": [
        {
          "output_type": "execute_result",
          "data": {
            "text/plain": [
              "[1, 2, 3]"
            ]
          },
          "metadata": {
            "tags": []
          },
          "execution_count": 46
        }
      ]
    },
    {
      "cell_type": "code",
      "metadata": {
        "colab": {
          "base_uri": "https://localhost:8080/"
        },
        "id": "MmNWMIZoaEHP",
        "outputId": "deec2d4b-b4da-4da7-b40d-0cb590c29eab"
      },
      "source": [
        "birds = {'parrot', 'duck'}\n",
        "print('parrot' in birds)\n",
        "print('cat' in birds)"
      ],
      "execution_count": null,
      "outputs": [
        {
          "output_type": "stream",
          "text": [
            "True\n",
            "False\n"
          ],
          "name": "stdout"
        }
      ]
    },
    {
      "cell_type": "code",
      "metadata": {
        "colab": {
          "base_uri": "https://localhost:8080/"
        },
        "id": "bBag27P8aftf",
        "outputId": "25b03f74-60a6-4e76-834a-4ee11d949762"
      },
      "source": [
        "birds.add('crow')\n",
        "print(len(birds))"
      ],
      "execution_count": null,
      "outputs": [
        {
          "output_type": "stream",
          "text": [
            "3\n"
          ],
          "name": "stdout"
        }
      ]
    },
    {
      "cell_type": "code",
      "metadata": {
        "colab": {
          "base_uri": "https://localhost:8080/"
        },
        "id": "PyK4idUGavc0",
        "outputId": "dffb06c6-29eb-48fe-990a-448e7d636c6e"
      },
      "source": [
        "t = (4, 5)\n",
        "print(t)"
      ],
      "execution_count": null,
      "outputs": [
        {
          "output_type": "stream",
          "text": [
            "(4, 5)\n"
          ],
          "name": "stdout"
        }
      ]
    },
    {
      "cell_type": "code",
      "metadata": {
        "colab": {
          "base_uri": "https://localhost:8080/",
          "height": 172
        },
        "id": "mV6MW7GMa4fP",
        "outputId": "8ae5dc37-223e-4c93-f1f3-b2e94d6cd7b7"
      },
      "source": [
        "t[0] = 8"
      ],
      "execution_count": null,
      "outputs": [
        {
          "output_type": "error",
          "ename": "TypeError",
          "evalue": "ignored",
          "traceback": [
            "\u001b[0;31m---------------------------------------------------------------------------\u001b[0m",
            "\u001b[0;31mTypeError\u001b[0m                                 Traceback (most recent call last)",
            "\u001b[0;32m<ipython-input-52-cd6f5bf327a2>\u001b[0m in \u001b[0;36m<module>\u001b[0;34m()\u001b[0m\n\u001b[0;32m----> 1\u001b[0;31m \u001b[0mt\u001b[0m\u001b[0;34m[\u001b[0m\u001b[0;36m0\u001b[0m\u001b[0;34m]\u001b[0m \u001b[0;34m=\u001b[0m \u001b[0;36m8\u001b[0m\u001b[0;34m\u001b[0m\u001b[0;34m\u001b[0m\u001b[0m\n\u001b[0m",
            "\u001b[0;31mTypeError\u001b[0m: 'tuple' object does not support item assignment"
          ]
        }
      ]
    },
    {
      "cell_type": "code",
      "metadata": {
        "id": "sodApokJbHkY"
      },
      "source": [
        "l = [1, 2, 3]\n",
        "t = (1, 2, 3)"
      ],
      "execution_count": null,
      "outputs": []
    },
    {
      "cell_type": "code",
      "metadata": {
        "colab": {
          "base_uri": "https://localhost:8080/"
        },
        "id": "-vCeHJpKbm4x",
        "outputId": "40a6e680-5fb2-44d4-d4f5-7adb2584af9d"
      },
      "source": [
        "l[0] = 5\n",
        "print(l)"
      ],
      "execution_count": null,
      "outputs": [
        {
          "output_type": "stream",
          "text": [
            "[5, 2, 3]\n"
          ],
          "name": "stdout"
        }
      ]
    },
    {
      "cell_type": "code",
      "metadata": {
        "colab": {
          "base_uri": "https://localhost:8080/",
          "height": 191
        },
        "id": "Uw8hDMMAbro-",
        "outputId": "2e5cb15b-6456-4994-d980-97d15c9e4faf"
      },
      "source": [
        "t[0] = 5\n",
        "print(t)"
      ],
      "execution_count": null,
      "outputs": [
        {
          "output_type": "error",
          "ename": "TypeError",
          "evalue": "ignored",
          "traceback": [
            "\u001b[0;31m---------------------------------------------------------------------------\u001b[0m",
            "\u001b[0;31mTypeError\u001b[0m                                 Traceback (most recent call last)",
            "\u001b[0;32m<ipython-input-59-95f881c055c3>\u001b[0m in \u001b[0;36m<module>\u001b[0;34m()\u001b[0m\n\u001b[0;32m----> 1\u001b[0;31m \u001b[0mt\u001b[0m\u001b[0;34m[\u001b[0m\u001b[0;36m0\u001b[0m\u001b[0;34m]\u001b[0m \u001b[0;34m=\u001b[0m \u001b[0;36m5\u001b[0m\u001b[0;34m\u001b[0m\u001b[0;34m\u001b[0m\u001b[0m\n\u001b[0m\u001b[1;32m      2\u001b[0m \u001b[0mprint\u001b[0m\u001b[0;34m(\u001b[0m\u001b[0mt\u001b[0m\u001b[0;34m)\u001b[0m\u001b[0;34m\u001b[0m\u001b[0;34m\u001b[0m\u001b[0m\n",
            "\u001b[0;31mTypeError\u001b[0m: 'tuple' object does not support item assignment"
          ]
        }
      ]
    },
    {
      "cell_type": "code",
      "metadata": {
        "colab": {
          "base_uri": "https://localhost:8080/"
        },
        "id": "aTGAutI9b9mG",
        "outputId": "d1de5e30-ea63-459f-dc67-84435a6a08e4"
      },
      "source": [
        "ryt = (1, 'a')\n",
        "print(ryt)"
      ],
      "execution_count": null,
      "outputs": [
        {
          "output_type": "stream",
          "text": [
            "(1, 'a')\n"
          ],
          "name": "stdout"
        }
      ]
    },
    {
      "cell_type": "code",
      "metadata": {
        "colab": {
          "base_uri": "https://localhost:8080/"
        },
        "id": "e3K7iCQicaqE",
        "outputId": "a40b781c-c55c-4be6-f31f-e9f435413983"
      },
      "source": [
        "!python --version"
      ],
      "execution_count": null,
      "outputs": [
        {
          "output_type": "stream",
          "text": [
            "Python 3.7.10\n"
          ],
          "name": "stdout"
        }
      ]
    },
    {
      "cell_type": "code",
      "metadata": {
        "colab": {
          "base_uri": "https://localhost:8080/"
        },
        "id": "528Der1cdZj6",
        "outputId": "38058790-c138-46d7-8dc4-833012818622"
      },
      "source": [
        "for bird in birds:\n",
        "  print(bird)\n",
        "print('swan')"
      ],
      "execution_count": null,
      "outputs": [
        {
          "output_type": "stream",
          "text": [
            "crow\n",
            "duck\n",
            "parrot\n",
            "swan\n"
          ],
          "name": "stdout"
        }
      ]
    },
    {
      "cell_type": "code",
      "metadata": {
        "colab": {
          "base_uri": "https://localhost:8080/"
        },
        "id": "oIqwnPAweSfD",
        "outputId": "464147af-a115-4d1b-9478-193fc662ff65"
      },
      "source": [
        "def sign(x):\n",
        "  if x > 0 :\n",
        "    return 'positive'\n",
        "  elif x < 0 :\n",
        "    return 'negative'\n",
        "  else :\n",
        "    return 'zero'\n",
        "\n",
        "for a in [-3, 0, 4]:\n",
        "  print(sign(a))  "
      ],
      "execution_count": null,
      "outputs": [
        {
          "output_type": "stream",
          "text": [
            "negative\n",
            "zero\n",
            "positive\n"
          ],
          "name": "stdout"
        }
      ]
    },
    {
      "cell_type": "code",
      "metadata": {
        "colab": {
          "base_uri": "https://localhost:8080/"
        },
        "id": "yjVDAhnwfeU3",
        "outputId": "37c162ca-ad9b-41ab-a5b1-dfed614410ab"
      },
      "source": [
        "def my_random(x):\n",
        "  if x > 0 :\n",
        "    return x ** 3\n",
        "  elif x < 0 :\n",
        "    return x * -5\n",
        "  else :\n",
        "    return x + 1\n",
        "\n",
        "for a in [-3, 0, 4]:\n",
        "  print(my_random(a)) "
      ],
      "execution_count": null,
      "outputs": [
        {
          "output_type": "stream",
          "text": [
            "15\n",
            "1\n",
            "64\n"
          ],
          "name": "stdout"
        }
      ]
    },
    {
      "cell_type": "code",
      "metadata": {
        "colab": {
          "base_uri": "https://localhost:8080/"
        },
        "id": "QVR2tNpPgdNB",
        "outputId": "2dc873bf-4c5b-4087-a7ac-c6dc50c41f1e"
      },
      "source": [
        "l = [-3, 0, 4]\n",
        "for i in range(3):\n",
        "  a = l[i]\n",
        "  print(my_random(a))"
      ],
      "execution_count": null,
      "outputs": [
        {
          "output_type": "stream",
          "text": [
            "15\n",
            "1\n",
            "64\n"
          ],
          "name": "stdout"
        }
      ]
    },
    {
      "cell_type": "code",
      "metadata": {
        "colab": {
          "base_uri": "https://localhost:8080/"
        },
        "id": "ccw20B4wg1eO",
        "outputId": "d32fa0b5-2137-4dad-ca01-1d987aa1b0b3"
      },
      "source": [
        "x = 0\n",
        "while x < 3 :\n",
        "  x += 1\n",
        "  print(x)"
      ],
      "execution_count": null,
      "outputs": [
        {
          "output_type": "stream",
          "text": [
            "1\n",
            "2\n",
            "3\n"
          ],
          "name": "stdout"
        }
      ]
    },
    {
      "cell_type": "code",
      "metadata": {
        "id": "H6mdgolbhK4o"
      },
      "source": [
        "#include math.h\n",
        "import numpy as np\n"
      ],
      "execution_count": null,
      "outputs": []
    },
    {
      "cell_type": "code",
      "metadata": {
        "colab": {
          "base_uri": "https://localhost:8080/"
        },
        "id": "vuDktxIShvIb",
        "outputId": "d73925bf-d273-41f6-c30b-01c74c1a236a"
      },
      "source": [
        "l = [1, 'a']\n",
        "a = np.array(l)\n",
        "print(a)"
      ],
      "execution_count": null,
      "outputs": [
        {
          "output_type": "stream",
          "text": [
            "['1' 'a']\n"
          ],
          "name": "stdout"
        }
      ]
    },
    {
      "cell_type": "code",
      "metadata": {
        "colab": {
          "base_uri": "https://localhost:8080/"
        },
        "id": "Cy8VC7n_iNuX",
        "outputId": "716641f2-6ebb-4999-d937-5362d1cebe45"
      },
      "source": [
        "a = np.array([1, 2, 3])\n",
        "print(a)\n",
        "print(type(a), a.shape)"
      ],
      "execution_count": null,
      "outputs": [
        {
          "output_type": "stream",
          "text": [
            "[1 2 3]\n",
            "<class 'numpy.ndarray'> (3,)\n"
          ],
          "name": "stdout"
        }
      ]
    },
    {
      "cell_type": "code",
      "metadata": {
        "colab": {
          "base_uri": "https://localhost:8080/"
        },
        "id": "yPBkwRuQioi6",
        "outputId": "8f7fcc30-4461-4353-b5c2-3ffab459ed9c"
      },
      "source": [
        "a = np.array([[1,2,3], [4,5,6]])\n",
        "print(a)\n",
        "print(a.shape)"
      ],
      "execution_count": null,
      "outputs": [
        {
          "output_type": "stream",
          "text": [
            "[[1 2 3]\n",
            " [4 5 6]]\n",
            "(2, 3)\n"
          ],
          "name": "stdout"
        }
      ]
    },
    {
      "cell_type": "code",
      "metadata": {
        "colab": {
          "base_uri": "https://localhost:8080/"
        },
        "id": "qu1lZGhPi8CO",
        "outputId": "f82bb27c-b536-4ae6-92cf-36252271c3ef"
      },
      "source": [
        "print(a[0, 1])"
      ],
      "execution_count": null,
      "outputs": [
        {
          "output_type": "stream",
          "text": [
            "2\n"
          ],
          "name": "stdout"
        }
      ]
    },
    {
      "cell_type": "code",
      "metadata": {
        "colab": {
          "base_uri": "https://localhost:8080/"
        },
        "id": "B5trX2mcjIul",
        "outputId": "c2bb6192-d8b9-471b-eed0-d3a821dc998e"
      },
      "source": [
        "id = np.eye(4)\n",
        "print(id)"
      ],
      "execution_count": null,
      "outputs": [
        {
          "output_type": "stream",
          "text": [
            "[[1. 0. 0. 0.]\n",
            " [0. 1. 0. 0.]\n",
            " [0. 0. 1. 0.]\n",
            " [0. 0. 0. 1.]]\n"
          ],
          "name": "stdout"
        }
      ]
    },
    {
      "cell_type": "code",
      "metadata": {
        "colab": {
          "base_uri": "https://localhost:8080/"
        },
        "id": "Zyp-8m4TjX_d",
        "outputId": "2a1064ad-77c2-484b-9204-f8f05b05bd51"
      },
      "source": [
        "zero_m = np.zeros([2,3])\n",
        "print(zero_m)\n",
        "zero_m[1,2] = 1\n",
        "print(zero_m)"
      ],
      "execution_count": null,
      "outputs": [
        {
          "output_type": "stream",
          "text": [
            "[[0. 0. 0.]\n",
            " [0. 0. 0.]]\n",
            "[[0. 0. 0.]\n",
            " [0. 0. 1.]]\n"
          ],
          "name": "stdout"
        }
      ]
    },
    {
      "cell_type": "code",
      "metadata": {
        "colab": {
          "base_uri": "https://localhost:8080/"
        },
        "id": "wTPBZiunjrQQ",
        "outputId": "7678bcdd-7bab-4e7d-c563-f1eb6047ba77"
      },
      "source": [
        "full_m = np.full([3, 4], 5)\n",
        "print(full_m)"
      ],
      "execution_count": null,
      "outputs": [
        {
          "output_type": "stream",
          "text": [
            "[[5 5 5 5]\n",
            " [5 5 5 5]\n",
            " [5 5 5 5]]\n"
          ],
          "name": "stdout"
        }
      ]
    },
    {
      "cell_type": "code",
      "metadata": {
        "colab": {
          "base_uri": "https://localhost:8080/"
        },
        "id": "CLvzDfT_j2H2",
        "outputId": "00c898cd-2354-487b-e981-7714647a1848"
      },
      "source": [
        "rand_m = np.random.rand(2, 4)\n",
        "print(rand_m)"
      ],
      "execution_count": null,
      "outputs": [
        {
          "output_type": "stream",
          "text": [
            "[[0.05277953 0.08796004 0.67633135 0.88388428]\n",
            " [0.25655889 0.7153442  0.90438128 0.2262967 ]]\n"
          ],
          "name": "stdout"
        }
      ]
    },
    {
      "cell_type": "code",
      "metadata": {
        "colab": {
          "base_uri": "https://localhost:8080/"
        },
        "id": "UgI5bm5NkXDc",
        "outputId": "702fc7be-2b4b-4e4f-bb73-4907502fbc25"
      },
      "source": [
        "rand_m = np.random.randint(0, 4, size = (4,3))\n",
        "print(rand_m)"
      ],
      "execution_count": null,
      "outputs": [
        {
          "output_type": "stream",
          "text": [
            "[[1 2 3]\n",
            " [2 0 0]\n",
            " [3 0 0]\n",
            " [3 2 0]]\n"
          ],
          "name": "stdout"
        }
      ]
    },
    {
      "cell_type": "code",
      "metadata": {
        "colab": {
          "base_uri": "https://localhost:8080/"
        },
        "id": "th3VJ0hdltAT",
        "outputId": "8c78467b-88ac-4d1c-9043-bc9405565917"
      },
      "source": [
        "a = np.array([[1,2,3], [4,5,6]])\n",
        "print(a)"
      ],
      "execution_count": null,
      "outputs": [
        {
          "output_type": "stream",
          "text": [
            "[[1 2 3]\n",
            " [4 5 6]]\n"
          ],
          "name": "stdout"
        }
      ]
    },
    {
      "cell_type": "code",
      "metadata": {
        "colab": {
          "base_uri": "https://localhost:8080/"
        },
        "id": "71Hh2bypl6ux",
        "outputId": "6b60c336-e490-43b9-93eb-a37f9b8e1764"
      },
      "source": [
        "b = a[:2, 1:] # first two rows and last two columns\n",
        "print(b)"
      ],
      "execution_count": null,
      "outputs": [
        {
          "output_type": "stream",
          "text": [
            "[[2 3]\n",
            " [5 6]]\n"
          ],
          "name": "stdout"
        }
      ]
    },
    {
      "cell_type": "code",
      "metadata": {
        "colab": {
          "base_uri": "https://localhost:8080/"
        },
        "id": "CziRMEbnme7E",
        "outputId": "7695578a-3a71-463e-9dba-90c48c3d1abb"
      },
      "source": [
        "c = a[0, :2]\n",
        "print(c)\n",
        "d = a[1, 1:]\n",
        "print(d)"
      ],
      "execution_count": null,
      "outputs": [
        {
          "output_type": "stream",
          "text": [
            "[1 2]\n",
            "[5 6]\n"
          ],
          "name": "stdout"
        }
      ]
    },
    {
      "cell_type": "code",
      "metadata": {
        "colab": {
          "base_uri": "https://localhost:8080/"
        },
        "id": "pw2R3Z1Km6un",
        "outputId": "2017f755-5899-4639-b836-b039f7b0a057"
      },
      "source": [
        "e = np.array([c, d])\n",
        "print(e)"
      ],
      "execution_count": null,
      "outputs": [
        {
          "output_type": "stream",
          "text": [
            "[[1 2]\n",
            " [5 6]]\n"
          ],
          "name": "stdout"
        }
      ]
    },
    {
      "cell_type": "code",
      "metadata": {
        "colab": {
          "base_uri": "https://localhost:8080/"
        },
        "id": "Jk_LoXxanFAD",
        "outputId": "cc12a294-0510-453b-b401-b9a364905f22"
      },
      "source": [
        "a = np.random.randint(0, 10, size = (4,5))\n",
        "print(a)"
      ],
      "execution_count": null,
      "outputs": [
        {
          "output_type": "stream",
          "text": [
            "[[8 7 6 3 5]\n",
            " [3 0 5 5 1]\n",
            " [5 9 5 3 7]\n",
            " [6 1 6 2 8]]\n"
          ],
          "name": "stdout"
        }
      ]
    },
    {
      "cell_type": "code",
      "metadata": {
        "colab": {
          "base_uri": "https://localhost:8080/"
        },
        "id": "0MzW5u8xnUAv",
        "outputId": "c990cc53-a03d-4e05-b8a9-c524577b43ff"
      },
      "source": [
        "b = a[:, -1].reshape(-1, 1)\n",
        "print(b)"
      ],
      "execution_count": null,
      "outputs": [
        {
          "output_type": "stream",
          "text": [
            "[[5]\n",
            " [1]\n",
            " [7]\n",
            " [8]]\n"
          ],
          "name": "stdout"
        }
      ]
    },
    {
      "cell_type": "code",
      "metadata": {
        "colab": {
          "base_uri": "https://localhost:8080/"
        },
        "id": "7lZ7BBgvn8Dl",
        "outputId": "253f6e2a-41fd-454f-e523-cfdb40b6a675"
      },
      "source": [
        "idx = (a > 3)\n",
        "print(idx)"
      ],
      "execution_count": null,
      "outputs": [
        {
          "output_type": "stream",
          "text": [
            "[[ True  True  True False  True]\n",
            " [False False  True  True False]\n",
            " [ True  True  True False  True]\n",
            " [ True False  True False  True]]\n"
          ],
          "name": "stdout"
        }
      ]
    },
    {
      "cell_type": "code",
      "metadata": {
        "colab": {
          "base_uri": "https://localhost:8080/"
        },
        "id": "NUDgYxuMoU4b",
        "outputId": "e4d09d0b-f10c-4596-a125-32a9eab56c69"
      },
      "source": [
        "a[idx]"
      ],
      "execution_count": null,
      "outputs": [
        {
          "output_type": "execute_result",
          "data": {
            "text/plain": [
              "array([8, 7, 6, 5, 5, 5, 5, 9, 5, 7, 6, 6, 8])"
            ]
          },
          "metadata": {
            "tags": []
          },
          "execution_count": 106
        }
      ]
    },
    {
      "cell_type": "code",
      "metadata": {
        "colab": {
          "base_uri": "https://localhost:8080/"
        },
        "id": "2kk6F5lNodsT",
        "outputId": "9ed31e7a-741f-41a2-91dc-1858cdcc58b6"
      },
      "source": [
        "a[a <= 3] = 0\n",
        "print(a)"
      ],
      "execution_count": null,
      "outputs": [
        {
          "output_type": "stream",
          "text": [
            "[[8 7 6 0 5]\n",
            " [0 0 5 5 0]\n",
            " [5 9 5 0 7]\n",
            " [6 0 6 0 8]]\n"
          ],
          "name": "stdout"
        }
      ]
    },
    {
      "cell_type": "code",
      "metadata": {
        "colab": {
          "base_uri": "https://localhost:8080/"
        },
        "id": "QRqITZLGotW-",
        "outputId": "0f594871-27bf-4248-bb6e-c6b9d87ac375"
      },
      "source": [
        "for i in range(4):\n",
        "  for j in range(5):\n",
        "    val = a[i, j]\n",
        "    if val > 6:\n",
        "      a[i, j] = -1\n",
        "\n",
        "print(a)"
      ],
      "execution_count": null,
      "outputs": [
        {
          "output_type": "stream",
          "text": [
            "[[-1 -1  6  0  5]\n",
            " [ 0  0  5  5  0]\n",
            " [ 5 -1  5  0 -1]\n",
            " [ 6  0  6  0 -1]]\n"
          ],
          "name": "stdout"
        }
      ]
    },
    {
      "cell_type": "code",
      "metadata": {
        "colab": {
          "base_uri": "https://localhost:8080/"
        },
        "id": "E-OxuvsepYKF",
        "outputId": "c1996bdb-ba42-45fd-8b90-75ace60b9913"
      },
      "source": [
        "b = np.random.rand(3, 4)\n",
        "print(b)"
      ],
      "execution_count": null,
      "outputs": [
        {
          "output_type": "stream",
          "text": [
            "[[0.49463548 0.37290898 0.87406189 0.92758524]\n",
            " [0.41075643 0.50311445 0.45814236 0.52609801]\n",
            " [0.27762687 0.84355779 0.44248947 0.52062776]]\n"
          ],
          "name": "stdout"
        }
      ]
    },
    {
      "cell_type": "code",
      "metadata": {
        "colab": {
          "base_uri": "https://localhost:8080/"
        },
        "id": "hw6CoRNXqNRK",
        "outputId": "717e7fd0-74b6-4c15-add3-07952cd4d002"
      },
      "source": [
        "c = b.reshape([-1, 2])\n",
        "print(c)"
      ],
      "execution_count": null,
      "outputs": [
        {
          "output_type": "stream",
          "text": [
            "[[0.49463548 0.37290898]\n",
            " [0.87406189 0.92758524]\n",
            " [0.41075643 0.50311445]\n",
            " [0.45814236 0.52609801]\n",
            " [0.27762687 0.84355779]\n",
            " [0.44248947 0.52062776]]\n"
          ],
          "name": "stdout"
        }
      ]
    },
    {
      "cell_type": "code",
      "metadata": {
        "colab": {
          "base_uri": "https://localhost:8080/"
        },
        "id": "HoWaMS-uqx7e",
        "outputId": "e2ac2d93-8690-45a8-e1f2-6de8fa7e60f3"
      },
      "source": [
        "a = np.random.randint(-4, 20, (5,6))\n",
        "print(a)"
      ],
      "execution_count": null,
      "outputs": [
        {
          "output_type": "stream",
          "text": [
            "[[ 0 16 -1  6 15  5]\n",
            " [ 5  9 10 13 15  4]\n",
            " [ 3 17  7  5 17 13]\n",
            " [ 3 19 15 16 17 -1]\n",
            " [10 17  6 16 -4 -4]]\n"
          ],
          "name": "stdout"
        }
      ]
    },
    {
      "cell_type": "code",
      "metadata": {
        "colab": {
          "base_uri": "https://localhost:8080/",
          "height": 209
        },
        "id": "IMKYZrvArP_O",
        "outputId": "74ce3268-8581-4941-812c-7e0838dcf068"
      },
      "source": [
        "a[a[:,  4:] < 0] = 0\n",
        "print(a)"
      ],
      "execution_count": null,
      "outputs": [
        {
          "output_type": "error",
          "ename": "IndexError",
          "evalue": "ignored",
          "traceback": [
            "\u001b[0;31m---------------------------------------------------------------------------\u001b[0m",
            "\u001b[0;31mIndexError\u001b[0m                                Traceback (most recent call last)",
            "\u001b[0;32m<ipython-input-113-842c42fe786e>\u001b[0m in \u001b[0;36m<module>\u001b[0;34m()\u001b[0m\n\u001b[0;32m----> 1\u001b[0;31m \u001b[0ma\u001b[0m\u001b[0;34m[\u001b[0m\u001b[0ma\u001b[0m\u001b[0;34m[\u001b[0m\u001b[0;34m:\u001b[0m\u001b[0;34m,\u001b[0m  \u001b[0;36m4\u001b[0m\u001b[0;34m:\u001b[0m\u001b[0;34m]\u001b[0m \u001b[0;34m<\u001b[0m \u001b[0;36m0\u001b[0m\u001b[0;34m]\u001b[0m \u001b[0;34m=\u001b[0m \u001b[0;36m0\u001b[0m\u001b[0;34m\u001b[0m\u001b[0;34m\u001b[0m\u001b[0m\n\u001b[0m\u001b[1;32m      2\u001b[0m \u001b[0mprint\u001b[0m\u001b[0;34m(\u001b[0m\u001b[0ma\u001b[0m\u001b[0;34m)\u001b[0m\u001b[0;34m\u001b[0m\u001b[0;34m\u001b[0m\u001b[0m\n",
            "\u001b[0;31mIndexError\u001b[0m: boolean index did not match indexed array along dimension 1; dimension is 6 but corresponding boolean dimension is 2"
          ]
        }
      ]
    },
    {
      "cell_type": "code",
      "metadata": {
        "colab": {
          "base_uri": "https://localhost:8080/"
        },
        "id": "RrteM2wWrmZM",
        "outputId": "06c812c1-5efd-41f4-ce99-29d483193560"
      },
      "source": [
        "b = a[:,  4:]\n",
        "print(b)\n",
        "b[b < 0] = 0\n",
        "print(b)"
      ],
      "execution_count": null,
      "outputs": [
        {
          "output_type": "stream",
          "text": [
            "[[15  5]\n",
            " [15  4]\n",
            " [17 13]\n",
            " [17 -1]\n",
            " [-4 -4]]\n",
            "[[15  5]\n",
            " [15  4]\n",
            " [17 13]\n",
            " [17  0]\n",
            " [ 0  0]]\n"
          ],
          "name": "stdout"
        }
      ]
    },
    {
      "cell_type": "code",
      "metadata": {
        "colab": {
          "base_uri": "https://localhost:8080/"
        },
        "id": "6eVjssqzr3d-",
        "outputId": "9d6d8710-f0e8-4916-81be-4f2cbf037233"
      },
      "source": [
        "a[:, 4:] = b\n",
        "print(a)"
      ],
      "execution_count": null,
      "outputs": [
        {
          "output_type": "stream",
          "text": [
            "[[ 0 16 -1  6 15  5]\n",
            " [ 5  9 10 13 15  4]\n",
            " [ 3 17  7  5 17 13]\n",
            " [ 3 19 15 16 17  0]\n",
            " [10 17  6 16  0  0]]\n"
          ],
          "name": "stdout"
        }
      ]
    },
    {
      "cell_type": "code",
      "metadata": {
        "colab": {
          "base_uri": "https://localhost:8080/"
        },
        "id": "vi0J78losX13",
        "outputId": "632188bb-30fd-43aa-fa27-a7ad214e70ca"
      },
      "source": [
        "a[:, 4:][a[:, 4:] > 15] = -1\n",
        "print(a)"
      ],
      "execution_count": null,
      "outputs": [
        {
          "output_type": "stream",
          "text": [
            "[[ 0 16 -1  6 15  5]\n",
            " [ 5  9 10 13 15  4]\n",
            " [ 3 17  7  5 -1 13]\n",
            " [ 3 19 15 16 -1  0]\n",
            " [10 17  6 16  0  0]]\n"
          ],
          "name": "stdout"
        }
      ]
    },
    {
      "cell_type": "code",
      "metadata": {
        "id": "hHVnNsUis5iS",
        "colab": {
          "base_uri": "https://localhost:8080/"
        },
        "outputId": "847d5294-7c3f-4609-e293-f596006a79c4"
      },
      "source": [
        "print(a[:, 4:] > 15)"
      ],
      "execution_count": null,
      "outputs": [
        {
          "output_type": "stream",
          "text": [
            "[[False False]\n",
            " [False False]\n",
            " [False False]\n",
            " [False False]\n",
            " [False False]]\n"
          ],
          "name": "stdout"
        }
      ]
    }
  ]
}