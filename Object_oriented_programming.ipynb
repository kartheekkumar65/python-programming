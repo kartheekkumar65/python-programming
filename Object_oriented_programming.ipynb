{
  "nbformat": 4,
  "nbformat_minor": 0,
  "metadata": {
    "colab": {
      "name": "Object oriented programming",
      "provenance": [],
      "collapsed_sections": []
    },
    "kernelspec": {
      "name": "python3",
      "display_name": "Python 3"
    },
    "language_info": {
      "name": "python"
    }
  },
  "cells": [
    {
      "cell_type": "code",
      "metadata": {
        "id": "i3d8wlIF8od5",
        "colab": {
          "base_uri": "https://localhost:8080/"
        },
        "outputId": "e2017809-6ba0-4090-a9cf-fe0be5ffbbec"
      },
      "source": [
        "class Duck:\n",
        "  def quack(self):\n",
        "    print('Quaaaack!!')\n",
        "  def walk(self):\n",
        "    print('walk like a duck')\n",
        "\n",
        "don = Duck()\n",
        "don.quack()\n",
        "don.walk()"
      ],
      "execution_count": null,
      "outputs": [
        {
          "output_type": "stream",
          "text": [
            "Quaaaack!!\n",
            "walk like a duck\n"
          ],
          "name": "stdout"
        }
      ]
    },
    {
      "cell_type": "code",
      "metadata": {
        "colab": {
          "base_uri": "https://localhost:8080/"
        },
        "id": "OX1U6-XfYhJw",
        "outputId": "1b29f0f0-4e9d-41dd-cee8-3a51af9b9453"
      },
      "source": [
        "chuchu = Duck()\n",
        "chuchu.quack()"
      ],
      "execution_count": null,
      "outputs": [
        {
          "output_type": "stream",
          "text": [
            "Quaaaack!!\n"
          ],
          "name": "stdout"
        }
      ]
    },
    {
      "cell_type": "code",
      "metadata": {
        "colab": {
          "base_uri": "https://localhost:8080/"
        },
        "id": "htjIgZhqY54y",
        "outputId": "bf766e49-5326-4a9f-d6de-29a862e09af5"
      },
      "source": [
        "print(don)"
      ],
      "execution_count": null,
      "outputs": [
        {
          "output_type": "stream",
          "text": [
            "<__main__.Duck object at 0x7ff532c80fd0>\n"
          ],
          "name": "stdout"
        }
      ]
    },
    {
      "cell_type": "code",
      "metadata": {
        "colab": {
          "base_uri": "https://localhost:8080/"
        },
        "id": "ikSdi1vsY9g1",
        "outputId": "7e424814-c966-438e-ec5c-0121ad87d144"
      },
      "source": [
        "print(chuchu)"
      ],
      "execution_count": null,
      "outputs": [
        {
          "output_type": "stream",
          "text": [
            "<__main__.Duck object at 0x7ff532cb9610>\n"
          ],
          "name": "stdout"
        }
      ]
    },
    {
      "cell_type": "markdown",
      "metadata": {
        "id": "XlpZtxlhaXZC"
      },
      "source": [
        "### Methods"
      ]
    },
    {
      "cell_type": "code",
      "metadata": {
        "colab": {
          "base_uri": "https://localhost:8080/"
        },
        "id": "PNJeAMSRZRKB",
        "outputId": "5698cd5c-ab4f-4462-89ec-3fb9bbf23717"
      },
      "source": [
        "class Duck:\n",
        "  def __init__(self, age):\n",
        "    self._age = age\n",
        "    \n",
        "  def quack(self):\n",
        "    print('Quaaaack!!', self._age)\n",
        "\n",
        "  def walk(self):\n",
        "    if self._age < 3:\n",
        "      print('jumps with excitement')\n",
        "    elif self._age < 13:\n",
        "      print('walks like an adult')\n",
        "    else:\n",
        "      print('walks with an effort!!')\n",
        "\n",
        "don = Duck(2)\n",
        "don.quack()\n",
        "don.walk()"
      ],
      "execution_count": null,
      "outputs": [
        {
          "output_type": "stream",
          "text": [
            "Quaaaack!! 2\n",
            "jumps with excitement\n"
          ],
          "name": "stdout"
        }
      ]
    },
    {
      "cell_type": "code",
      "metadata": {
        "colab": {
          "base_uri": "https://localhost:8080/"
        },
        "id": "dAVzjMYecgyQ",
        "outputId": "0e418f16-5c34-45ee-b6a7-52726b6520c8"
      },
      "source": [
        "chuchu = Duck(25)\n",
        "chuchu.walk()"
      ],
      "execution_count": null,
      "outputs": [
        {
          "output_type": "stream",
          "text": [
            "walks with an effort!!\n"
          ],
          "name": "stdout"
        }
      ]
    },
    {
      "cell_type": "code",
      "metadata": {
        "id": "HaKbCMhSco7x"
      },
      "source": [
        "class Duck:\n",
        "  def __init__(self, age):\n",
        "    self._age = age\n",
        "    \n",
        "  def quack(self):\n",
        "    print('Quaaaack!!', self._age)\n",
        "\n",
        "  def walk(self):\n",
        "    print('walks like a duck!!')\n",
        "\n",
        "  def test_me():\n",
        "    print('Seee... I am an independent function... No object can bind me to it')"
      ],
      "execution_count": null,
      "outputs": []
    },
    {
      "cell_type": "code",
      "metadata": {
        "colab": {
          "base_uri": "https://localhost:8080/"
        },
        "id": "Agco2WVddA-9",
        "outputId": "896d1622-673a-47c2-f845-4f3d1c05e31f"
      },
      "source": [
        "don = Duck(12)\n",
        "don.quack()"
      ],
      "execution_count": null,
      "outputs": [
        {
          "output_type": "stream",
          "text": [
            "Quaaaack!! 12\n"
          ],
          "name": "stdout"
        }
      ]
    },
    {
      "cell_type": "code",
      "metadata": {
        "colab": {
          "base_uri": "https://localhost:8080/",
          "height": 168
        },
        "id": "RHu3xLt9dKc6",
        "outputId": "74315521-8801-421d-b853-5296314ff72d"
      },
      "source": [
        "test_me()"
      ],
      "execution_count": null,
      "outputs": [
        {
          "output_type": "error",
          "ename": "NameError",
          "evalue": "ignored",
          "traceback": [
            "\u001b[0;31m---------------------------------------------------------------------------\u001b[0m",
            "\u001b[0;31mNameError\u001b[0m                                 Traceback (most recent call last)",
            "\u001b[0;32m<ipython-input-19-d2f5be69b61c>\u001b[0m in \u001b[0;36m<module>\u001b[0;34m()\u001b[0m\n\u001b[0;32m----> 1\u001b[0;31m \u001b[0mtest_me\u001b[0m\u001b[0;34m(\u001b[0m\u001b[0;34m)\u001b[0m\u001b[0;34m\u001b[0m\u001b[0;34m\u001b[0m\u001b[0m\n\u001b[0m",
            "\u001b[0;31mNameError\u001b[0m: name 'test_me' is not defined"
          ]
        }
      ]
    },
    {
      "cell_type": "code",
      "metadata": {
        "colab": {
          "base_uri": "https://localhost:8080/"
        },
        "id": "6vBg7lqBeCdC",
        "outputId": "e36e9c51-1d78-419e-8c46-c95c9f77104d"
      },
      "source": [
        "class Duck:\n",
        "  def __init__(self, age):\n",
        "    self._age = age\n",
        "    \n",
        "  def quack(self):\n",
        "    print('Quaaaack!!', self._age)\n",
        "\n",
        "  def walk(self):\n",
        "    if self._age < 3:\n",
        "      print('jumps with excitement')\n",
        "    elif self._age < 13:\n",
        "      print('walks like an adult')\n",
        "    else:\n",
        "      print('walks with an effort!!')\n",
        "\n",
        "  def set_color(self, color):\n",
        "    self._color = color\n",
        "\n",
        "def test_me():\n",
        "  print('Seee... I am an independent function... No object can bind me to it')\n",
        "\n",
        "don = Duck(2)\n",
        "don.quack()\n",
        "don.walk()"
      ],
      "execution_count": null,
      "outputs": [
        {
          "output_type": "stream",
          "text": [
            "Quaaaack!! 2\n",
            "jumps with excitement\n"
          ],
          "name": "stdout"
        }
      ]
    },
    {
      "cell_type": "code",
      "metadata": {
        "colab": {
          "base_uri": "https://localhost:8080/",
          "height": 168
        },
        "id": "NHZHmbGVeSkB",
        "outputId": "5f6cc173-8134-40d9-8066-5a5592b929c0"
      },
      "source": [
        "don._color"
      ],
      "execution_count": null,
      "outputs": [
        {
          "output_type": "error",
          "ename": "AttributeError",
          "evalue": "ignored",
          "traceback": [
            "\u001b[0;31m---------------------------------------------------------------------------\u001b[0m",
            "\u001b[0;31mAttributeError\u001b[0m                            Traceback (most recent call last)",
            "\u001b[0;32m<ipython-input-21-607a537f8389>\u001b[0m in \u001b[0;36m<module>\u001b[0;34m()\u001b[0m\n\u001b[0;32m----> 1\u001b[0;31m \u001b[0mdon\u001b[0m\u001b[0;34m.\u001b[0m\u001b[0m_color\u001b[0m\u001b[0;34m\u001b[0m\u001b[0;34m\u001b[0m\u001b[0m\n\u001b[0m",
            "\u001b[0;31mAttributeError\u001b[0m: 'Duck' object has no attribute '_color'"
          ]
        }
      ]
    },
    {
      "cell_type": "code",
      "metadata": {
        "colab": {
          "base_uri": "https://localhost:8080/",
          "height": 35
        },
        "id": "IsiNVKbPeXjR",
        "outputId": "78289b65-6320-4b9b-ab68-a33a4dca2c47"
      },
      "source": [
        "don.set_color('Blue')\n",
        "don._color"
      ],
      "execution_count": null,
      "outputs": [
        {
          "output_type": "execute_result",
          "data": {
            "application/vnd.google.colaboratory.intrinsic+json": {
              "type": "string"
            },
            "text/plain": [
              "'Blue'"
            ]
          },
          "metadata": {
            "tags": []
          },
          "execution_count": 22
        }
      ]
    },
    {
      "cell_type": "code",
      "metadata": {
        "colab": {
          "base_uri": "https://localhost:8080/"
        },
        "id": "4baCNVD0ewbK",
        "outputId": "e4eb5b7c-473c-4fa1-a3b1-cb9e7ac61739"
      },
      "source": [
        "test_me()"
      ],
      "execution_count": null,
      "outputs": [
        {
          "output_type": "stream",
          "text": [
            "Seee... I am an independent function... No object can bind me to it\n"
          ],
          "name": "stdout"
        }
      ]
    },
    {
      "cell_type": "markdown",
      "metadata": {
        "id": "jTpHOYeVfQLT"
      },
      "source": [
        "### Inheritance"
      ]
    },
    {
      "cell_type": "code",
      "metadata": {
        "id": "wWERfpwMfVs1"
      },
      "source": [
        "class Duck:\n",
        "  def quack(self):\n",
        "    print(\"Quaaaaack!\")\n",
        "  def walk(self):\n",
        "    print(\"walk like a duck\")"
      ],
      "execution_count": null,
      "outputs": []
    },
    {
      "cell_type": "code",
      "metadata": {
        "id": "dAKqyi43fecJ"
      },
      "source": [
        "class Animal:\n",
        "  def __init__(self):\n",
        "    self.fly = False\n",
        "  def talk(self):\n",
        "    print('I have something to say!!')\n",
        "  def walk(self):\n",
        "    print('Hey, I am walking here!!')\n",
        "  def clothes(self):\n",
        "    print('I have nice clothes :)')"
      ],
      "execution_count": null,
      "outputs": []
    },
    {
      "cell_type": "code",
      "metadata": {
        "id": "vTJvzQdHgM6y"
      },
      "source": [
        "class Duck(Animal):\n",
        "  def __init__(self):\n",
        "    super().__init__()\n",
        "  def talk(self):\n",
        "    print(\"Quaaaaack!\")\n",
        "  def walk(self):\n",
        "    super().walk()\n",
        "    print(\"walk like a duck\")"
      ],
      "execution_count": null,
      "outputs": []
    },
    {
      "cell_type": "code",
      "metadata": {
        "colab": {
          "base_uri": "https://localhost:8080/"
        },
        "id": "IZxUGMfvga2N",
        "outputId": "f75fdcdd-00fd-4532-da41-06fb53653b21"
      },
      "source": [
        "don = Duck()\n",
        "don.talk()\n",
        "don.clothes()\n",
        "don.walk()"
      ],
      "execution_count": null,
      "outputs": [
        {
          "output_type": "stream",
          "text": [
            "Quaaaaack!\n",
            "I have nice clothes :)\n",
            "Hey, I am walking here!!\n",
            "walk like a duck\n"
          ],
          "name": "stdout"
        }
      ]
    },
    {
      "cell_type": "code",
      "metadata": {
        "colab": {
          "base_uri": "https://localhost:8080/"
        },
        "id": "A52-2CBUhgpu",
        "outputId": "6c6e07bd-ebae-4e12-a609-6c3ba4143640"
      },
      "source": [
        "don = Duck()\n",
        "don.fly"
      ],
      "execution_count": null,
      "outputs": [
        {
          "output_type": "execute_result",
          "data": {
            "text/plain": [
              "False"
            ]
          },
          "metadata": {
            "tags": []
          },
          "execution_count": 34
        }
      ]
    },
    {
      "cell_type": "code",
      "metadata": {
        "id": "buUHc7ljhvBS"
      },
      "source": [
        "class Dog(Animal):\n",
        "  def clothes(self):\n",
        "    print('I have brown and white fur')"
      ],
      "execution_count": null,
      "outputs": []
    },
    {
      "cell_type": "code",
      "metadata": {
        "colab": {
          "base_uri": "https://localhost:8080/"
        },
        "id": "2j3FG9_Mh9ML",
        "outputId": "11e5cced-f73d-4409-9dc5-c470ff0ca228"
      },
      "source": [
        "tommy = Dog()\n",
        "tommy.talk()\n",
        "tommy.clothes()\n",
        "tommy.fly"
      ],
      "execution_count": null,
      "outputs": [
        {
          "output_type": "stream",
          "text": [
            "I have something to say!!\n",
            "I have brown and white fur\n"
          ],
          "name": "stdout"
        },
        {
          "output_type": "execute_result",
          "data": {
            "text/plain": [
              "False"
            ]
          },
          "metadata": {
            "tags": []
          },
          "execution_count": 37
        }
      ]
    },
    {
      "cell_type": "markdown",
      "metadata": {
        "id": "whG4WEdbie-t"
      },
      "source": [
        "### Polymorphism"
      ]
    },
    {
      "cell_type": "code",
      "metadata": {
        "id": "B7AwDZotijtZ"
      },
      "source": [
        "class Duck:\n",
        "  def quack(self):\n",
        "    print(\"Quaaaaack!\")\n",
        "  def walk(self):\n",
        "    print(\"walk like a duck\")\n",
        "\n",
        "class Dog:\n",
        "  def clothes(self):\n",
        "    print('I have brown and white fur')\n",
        "  def bark(self):\n",
        "    print('Wooof !!')"
      ],
      "execution_count": null,
      "outputs": []
    },
    {
      "cell_type": "code",
      "metadata": {
        "colab": {
          "base_uri": "https://localhost:8080/"
        },
        "id": "KULkPy9Ci1C5",
        "outputId": "c65b976a-7af5-4597-bf89-9a1f2b25d8b3"
      },
      "source": [
        "don = Duck()\n",
        "don.quack()"
      ],
      "execution_count": null,
      "outputs": [
        {
          "output_type": "stream",
          "text": [
            "Quaaaaack!\n"
          ],
          "name": "stdout"
        }
      ]
    },
    {
      "cell_type": "code",
      "metadata": {
        "colab": {
          "base_uri": "https://localhost:8080/"
        },
        "id": "IxbH5Ru6i60q",
        "outputId": "8b5424f7-3c30-4039-e8f8-cba6c26896a4"
      },
      "source": [
        "tommy = Dog()\n",
        "tommy.bark()"
      ],
      "execution_count": null,
      "outputs": [
        {
          "output_type": "stream",
          "text": [
            "Wooof !!\n"
          ],
          "name": "stdout"
        }
      ]
    },
    {
      "cell_type": "code",
      "metadata": {
        "id": "9FXwqRAGjGxW"
      },
      "source": [
        "class Duck:\n",
        "  def quack(self):\n",
        "    print(\"Quaaaaack!\")\n",
        "  def walk(self):\n",
        "    print(\"walk like a duck\")\n",
        "  def clothes(self):\n",
        "    print('Duck has feathers')\n",
        "  def bark(self):\n",
        "    print('Duck can not bark')\n",
        "\n",
        "class Dog:\n",
        "  def clothes(self):\n",
        "    print('I have brown and white fur')\n",
        "  def bark(self):\n",
        "    print('Wooof !!')\n",
        "  def quack(self):\n",
        "    print('Dog would not quack')\n",
        "  def walk(self):\n",
        "    print('walks like a dog')"
      ],
      "execution_count": null,
      "outputs": []
    },
    {
      "cell_type": "code",
      "metadata": {
        "colab": {
          "base_uri": "https://localhost:8080/"
        },
        "id": "WXmZfqjXju0h",
        "outputId": "655b0bbc-ddb4-4cf3-fc60-a6b3e6e7a16c"
      },
      "source": [
        "don = Duck()\n",
        "tommy = Dog()\n",
        "\n",
        "for obj in (don, tommy):\n",
        "  obj.quack()\n",
        "  obj.walk()\n",
        "  obj.clothes()\n",
        "  obj.bark()"
      ],
      "execution_count": null,
      "outputs": [
        {
          "output_type": "stream",
          "text": [
            "Quaaaaack!\n",
            "walk like a duck\n",
            "Duck has feathers\n",
            "Duck can not bark\n",
            "Dog would not quack\n",
            "walks like a dog\n",
            "I have brown and white fur\n",
            "Wooof !!\n"
          ],
          "name": "stdout"
        }
      ]
    },
    {
      "cell_type": "code",
      "metadata": {
        "id": "6Tz6OIC0kIAR"
      },
      "source": [
        "def in_the_forest(animal):\n",
        "  animal.bark()\n",
        "  animal.clothes()\n",
        "\n",
        "def in_the_pond(swimmer):\n",
        "  swimmer.quack()\n",
        "  swimmer.walk()"
      ],
      "execution_count": null,
      "outputs": []
    },
    {
      "cell_type": "code",
      "metadata": {
        "colab": {
          "base_uri": "https://localhost:8080/"
        },
        "id": "k_2tvTwykk7z",
        "outputId": "b660de1d-0d49-404e-f161-21331f9014ad"
      },
      "source": [
        "in_the_forest(don)"
      ],
      "execution_count": null,
      "outputs": [
        {
          "output_type": "stream",
          "text": [
            "Duck can not bark\n",
            "Duck has feathers\n"
          ],
          "name": "stdout"
        }
      ]
    },
    {
      "cell_type": "code",
      "metadata": {
        "colab": {
          "base_uri": "https://localhost:8080/"
        },
        "id": "v9YZNEZdkzpd",
        "outputId": "9bbed2be-f44d-4948-daaf-280b581d46e2"
      },
      "source": [
        "in_the_pond(don)"
      ],
      "execution_count": null,
      "outputs": [
        {
          "output_type": "stream",
          "text": [
            "Quaaaaack!\n",
            "walk like a duck\n"
          ],
          "name": "stdout"
        }
      ]
    },
    {
      "cell_type": "code",
      "metadata": {
        "colab": {
          "base_uri": "https://localhost:8080/"
        },
        "id": "14mtHjsMlCVi",
        "outputId": "5c90cb1d-819c-4b2a-c372-7f80a9ef05bc"
      },
      "source": [
        "in_the_forest(tommy)"
      ],
      "execution_count": null,
      "outputs": [
        {
          "output_type": "stream",
          "text": [
            "Wooof !!\n",
            "I have brown and white fur\n"
          ],
          "name": "stdout"
        }
      ]
    },
    {
      "cell_type": "code",
      "metadata": {
        "colab": {
          "base_uri": "https://localhost:8080/"
        },
        "id": "1cx47SQRlGyy",
        "outputId": "ac6288c4-96f5-4339-9d4e-0f8aa40c7c2c"
      },
      "source": [
        "in_the_pond(tommy)"
      ],
      "execution_count": null,
      "outputs": [
        {
          "output_type": "stream",
          "text": [
            "Dog would not quack\n",
            "walks like a dog\n"
          ],
          "name": "stdout"
        }
      ]
    },
    {
      "cell_type": "markdown",
      "metadata": {
        "id": "AjvzfzpmmNtI"
      },
      "source": [
        "### Generators"
      ]
    },
    {
      "cell_type": "code",
      "metadata": {
        "colab": {
          "base_uri": "https://localhost:8080/",
          "height": 186
        },
        "id": "8TmMIghamPlj",
        "outputId": "99f0db5f-664e-4cf7-ca3c-7451b0b468ec"
      },
      "source": [
        "for i in don:\n",
        "  print(i)"
      ],
      "execution_count": null,
      "outputs": [
        {
          "output_type": "error",
          "ename": "TypeError",
          "evalue": "ignored",
          "traceback": [
            "\u001b[0;31m---------------------------------------------------------------------------\u001b[0m",
            "\u001b[0;31mTypeError\u001b[0m                                 Traceback (most recent call last)",
            "\u001b[0;32m<ipython-input-49-a28a84e64d46>\u001b[0m in \u001b[0;36m<module>\u001b[0;34m()\u001b[0m\n\u001b[0;32m----> 1\u001b[0;31m \u001b[0;32mfor\u001b[0m \u001b[0mi\u001b[0m \u001b[0;32min\u001b[0m \u001b[0mdon\u001b[0m\u001b[0;34m:\u001b[0m\u001b[0;34m\u001b[0m\u001b[0;34m\u001b[0m\u001b[0m\n\u001b[0m\u001b[1;32m      2\u001b[0m   \u001b[0mprint\u001b[0m\u001b[0;34m(\u001b[0m\u001b[0mi\u001b[0m\u001b[0;34m)\u001b[0m\u001b[0;34m\u001b[0m\u001b[0;34m\u001b[0m\u001b[0m\n",
            "\u001b[0;31mTypeError\u001b[0m: 'Duck' object is not iterable"
          ]
        }
      ]
    },
    {
      "cell_type": "code",
      "metadata": {
        "colab": {
          "base_uri": "https://localhost:8080/"
        },
        "id": "l6xeSSwpmjTD",
        "outputId": "9d3518b9-446f-4a27-86ea-7eaf4142f4b6"
      },
      "source": [
        "o = range(25)\n",
        "type(o)"
      ],
      "execution_count": null,
      "outputs": [
        {
          "output_type": "execute_result",
          "data": {
            "text/plain": [
              "range"
            ]
          },
          "metadata": {
            "tags": []
          },
          "execution_count": 50
        }
      ]
    },
    {
      "cell_type": "code",
      "metadata": {
        "colab": {
          "base_uri": "https://localhost:8080/"
        },
        "id": "Kp_WYU8Lmy0i",
        "outputId": "261f59a1-7f8c-47ec-aa29-9fa61fe30b05"
      },
      "source": [
        "for i in o: print(i, end = ' ')"
      ],
      "execution_count": null,
      "outputs": [
        {
          "output_type": "stream",
          "text": [
            "0 1 2 3 4 5 6 7 8 9 10 11 12 13 14 15 16 17 18 19 20 21 22 23 24 "
          ],
          "name": "stdout"
        }
      ]
    },
    {
      "cell_type": "code",
      "metadata": {
        "colab": {
          "base_uri": "https://localhost:8080/"
        },
        "id": "jib0v_cUm-L7",
        "outputId": "3592ffa7-1716-4d53-a438-4a8b647d0c7a"
      },
      "source": [
        "o = range(1, 25, 2)\n",
        "for i in o: print(i, end = ' ')"
      ],
      "execution_count": null,
      "outputs": [
        {
          "output_type": "stream",
          "text": [
            "1 3 5 7 9 11 13 15 17 19 21 23 "
          ],
          "name": "stdout"
        }
      ]
    },
    {
      "cell_type": "markdown",
      "metadata": {
        "id": "nZ6O95T0nVsG"
      },
      "source": [
        "#### Objectives\n",
        "1. Create a class which is iterable\n",
        "2. It should have inclusive range with start, stop and step features"
      ]
    },
    {
      "cell_type": "code",
      "metadata": {
        "id": "FPq7Jnkxnk9U"
      },
      "source": [
        "class inclusive_range:\n",
        "  # this class should take at least 1 argument and at most 3 arguments\n",
        "  def __init__(self, *args):\n",
        "    numargs = len(args)\n",
        "    if numargs < 1:\n",
        "      raise TypeError('Requires at least one argument, but {} given'.format(numargs))\n",
        "    elif numargs == 1:\n",
        "      self.start = 0\n",
        "      self.stop = args[0]\n",
        "      self.step = 1\n",
        "    elif numargs == 2:\n",
        "      self.start, self.stop = args\n",
        "      self.step = 1\n",
        "    elif numargs == 3:\n",
        "      self.start, self.stop, self.step = args\n",
        "    else:\n",
        "      raise TypeError('Requires at most three arguments, but {} given'.format(numargs))\n",
        "\n",
        "  def __iter__(self):\n",
        "    print(self.start, self.stop, self.step)\n",
        "    i = self.start\n",
        "    while i <= self.stop:\n",
        "      yield i\n",
        "      i += self.step"
      ],
      "execution_count": null,
      "outputs": []
    },
    {
      "cell_type": "code",
      "metadata": {
        "colab": {
          "base_uri": "https://localhost:8080/"
        },
        "id": "Sq9T1LFSnS-D",
        "outputId": "61e2e2c7-00da-4840-edfc-212d11253b09"
      },
      "source": [
        "o = inclusive_range(25)\n",
        "for i in o: print(i, end = ' ')"
      ],
      "execution_count": null,
      "outputs": [
        {
          "output_type": "stream",
          "text": [
            "0 25 1\n",
            "0 1 2 3 4 5 6 7 8 9 10 11 12 13 14 15 16 17 18 19 20 21 22 23 24 25 "
          ],
          "name": "stdout"
        }
      ]
    },
    {
      "cell_type": "code",
      "metadata": {
        "colab": {
          "base_uri": "https://localhost:8080/"
        },
        "id": "b9HGtKXMq1zW",
        "outputId": "8170cb32-16ad-4707-df83-bec0ef8e84e1"
      },
      "source": [
        "o = inclusive_range(1, 14)\n",
        "for i in o: print(i, end = ' ')"
      ],
      "execution_count": null,
      "outputs": [
        {
          "output_type": "stream",
          "text": [
            "1 14 1\n",
            "1 2 3 4 5 6 7 8 9 10 11 12 13 14 "
          ],
          "name": "stdout"
        }
      ]
    },
    {
      "cell_type": "code",
      "metadata": {
        "colab": {
          "base_uri": "https://localhost:8080/"
        },
        "id": "yZxGh1j5q6j7",
        "outputId": "32b443f0-5cca-4f14-9ce1-1cfea797e600"
      },
      "source": [
        "o = inclusive_range(1, 25, 2)\n",
        "for i in o: print(i, end = ' ')"
      ],
      "execution_count": null,
      "outputs": [
        {
          "output_type": "stream",
          "text": [
            "1 25 2\n",
            "1 3 5 7 9 11 13 15 17 19 21 23 25 "
          ],
          "name": "stdout"
        }
      ]
    },
    {
      "cell_type": "code",
      "metadata": {
        "colab": {
          "base_uri": "https://localhost:8080/",
          "height": 290
        },
        "id": "cW6wNlgnra1S",
        "outputId": "98bda4d0-a533-45e5-bca6-2edff513eae1"
      },
      "source": [
        "o = inclusive_range()"
      ],
      "execution_count": null,
      "outputs": [
        {
          "output_type": "error",
          "ename": "TypeError",
          "evalue": "ignored",
          "traceback": [
            "\u001b[0;31m---------------------------------------------------------------------------\u001b[0m",
            "\u001b[0;31mTypeError\u001b[0m                                 Traceback (most recent call last)",
            "\u001b[0;32m<ipython-input-69-154865b7ba32>\u001b[0m in \u001b[0;36m<module>\u001b[0;34m()\u001b[0m\n\u001b[0;32m----> 1\u001b[0;31m \u001b[0mo\u001b[0m \u001b[0;34m=\u001b[0m \u001b[0minclusive_range\u001b[0m\u001b[0;34m(\u001b[0m\u001b[0;34m)\u001b[0m\u001b[0;34m\u001b[0m\u001b[0;34m\u001b[0m\u001b[0m\n\u001b[0m",
            "\u001b[0;32m<ipython-input-67-035518e1021b>\u001b[0m in \u001b[0;36m__init__\u001b[0;34m(self, *args)\u001b[0m\n\u001b[1;32m      4\u001b[0m     \u001b[0mnumargs\u001b[0m \u001b[0;34m=\u001b[0m \u001b[0mlen\u001b[0m\u001b[0;34m(\u001b[0m\u001b[0margs\u001b[0m\u001b[0;34m)\u001b[0m\u001b[0;34m\u001b[0m\u001b[0;34m\u001b[0m\u001b[0m\n\u001b[1;32m      5\u001b[0m     \u001b[0;32mif\u001b[0m \u001b[0mnumargs\u001b[0m \u001b[0;34m<\u001b[0m \u001b[0;36m1\u001b[0m\u001b[0;34m:\u001b[0m\u001b[0;34m\u001b[0m\u001b[0;34m\u001b[0m\u001b[0m\n\u001b[0;32m----> 6\u001b[0;31m       \u001b[0;32mraise\u001b[0m \u001b[0mTypeError\u001b[0m\u001b[0;34m(\u001b[0m\u001b[0;34m'Requires at least one argument, but {} given'\u001b[0m\u001b[0;34m.\u001b[0m\u001b[0mformat\u001b[0m\u001b[0;34m(\u001b[0m\u001b[0mnumargs\u001b[0m\u001b[0;34m)\u001b[0m\u001b[0;34m)\u001b[0m\u001b[0;34m\u001b[0m\u001b[0;34m\u001b[0m\u001b[0m\n\u001b[0m\u001b[1;32m      7\u001b[0m     \u001b[0;32melif\u001b[0m \u001b[0mnumargs\u001b[0m \u001b[0;34m==\u001b[0m \u001b[0;36m1\u001b[0m\u001b[0;34m:\u001b[0m\u001b[0;34m\u001b[0m\u001b[0;34m\u001b[0m\u001b[0m\n\u001b[1;32m      8\u001b[0m       \u001b[0mself\u001b[0m\u001b[0;34m.\u001b[0m\u001b[0mstart\u001b[0m \u001b[0;34m=\u001b[0m \u001b[0;36m0\u001b[0m\u001b[0;34m\u001b[0m\u001b[0;34m\u001b[0m\u001b[0m\n",
            "\u001b[0;31mTypeError\u001b[0m: Requires at least one argument, but 0 given"
          ]
        }
      ]
    }
  ]
}